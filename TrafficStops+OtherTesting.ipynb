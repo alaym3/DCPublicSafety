{
 "cells": [
  {
   "cell_type": "markdown",
   "id": "ef5f2414",
   "metadata": {},
   "source": [
    "## America has gone through a turbulent period in the last decade, including events like Trump’s election, the mass protests about police violence stemming from George Floyd’s death, and COVID.\n",
    "## How has public safety, discrimination, and violence evolved in Washington DC, especially in the context of these events? Are all people equally safe in DC, or only certain people? Has safety for certain groups changed in any meaningful ways over time? What about across different locations in DC?\n",
    "## To that end, we explore datasets about Washington DC relating to sustainable development goal 16: [peace, justice, and strong institutions](https://sdg-tracker.org/peace-justice)\n",
    "\n",
    "   * **Prevalence of all types of violence: 16.1.3**\n",
    "       * Definition: Indicator 16.1.3 is the proportion of population subjected to (a) physical violence, (b) psychological violence and (c) sexual violence in the previous 12 months.\n",
    "\n",
    "       * Goal: Significantly reduce all forms of violence and related death rates across all countries by 2030.\n",
    "   * **Increase public safety: 16.1.4**\n",
    "       * Definition: Indicator 16.1.4 is the proportion of population that feel safe walking alone around the area they live.\n",
    "\n",
    "       * Goal: Significantly reduce all forms of violence and related death rates across all countries by 2030.\n",
    "   * **Public discrimination: 16.B.1**\n",
    "       * Definition: Indicator 16.B.1 is the proportion of population reporting having personally felt discriminated against or harassed in the previous 12 months on the basis of a ground of discrimination prohibited under international human rights law.\n",
    "       * Goal: Promote and enforce non-discriminatory laws and policies for sustainable development across all countries by 2030."
   ]
  },
  {
   "cell_type": "markdown",
   "id": "7c0700dd",
   "metadata": {},
   "source": [
    "## Datasets in use\n",
    "### Hate crime dataset\n",
    "* https://mpdc.dc.gov/node/1334781\n",
    "* DC hate crime instances from 2012-2021 full years\n",
    "* contains the district (which is a police district), and not a ZIP code.\n",
    "** Police district geojson is here https://github.com/benbalter/dc-maps/blob/master/maps/police-districts-mpd.geojson\n",
    "\n",
    "### Use of force dataset\n",
    "* https://mpdc.dc.gov/node/1582621\n",
    "* only 2020\n",
    "* contains the district (which is a police district), and not a ZIP code.\n",
    "** Police district geojson is here https://github.com/benbalter/dc-maps/blob/master/maps/police-districts-mpd.geojson\n",
    "\n",
    "## currently testing these datasets\n",
    "* Traffic stops 2019(partial)-2020 - https://opendata.dc.gov/datasets/DCGIS::stop-incidents/explore\n",
    "* Felony sentences? - https://opendata.dc.gov/datasets/DCGIS::felony-sentences/explore"
   ]
  },
  {
   "cell_type": "markdown",
   "id": "f50d6064",
   "metadata": {},
   "source": [
    "## other potential datasources\n",
    "### many other DC map data\n",
    "* https://github.com/benbalter/dc-maps\n",
    "\n",
    "### ZIP codes if needed for further analysis\n",
    "* ZIP codes geojson https://github.com/benbalter/dc-maps/blob/master/maps/zip-codes.geojson\n",
    "\n",
    "### demographics 2020 data from census tracts\n",
    "* geojson and csv of data table https://opendata.dc.gov/datasets/DCGIS::census-tracts-in-2020/explore?location=38.890695%2C-77.031102%2C11.93&showTable=true\n",
    "* shows demographic breakdown\n",
    "* SUMMARY of demographics of census tracts: https://opendata.dc.gov/apps/demographic-characteristics-of-dc-census-tracts/explore\n",
    "* economic description of census tracts: https://opendata.dc.gov/apps/economic-characteristics-of-dc-census-tracts/explore\n",
    "* social characteristics of census tracts: https://opendata.dc.gov/apps/social-characteristics-of-dc-census-tracts/explore\n",
    "\n",
    "### [Overall demographics](https://www.census.gov/quickfacts/DC)\n",
    "* 46% white, 46% black"
   ]
  },
  {
   "cell_type": "code",
   "execution_count": 1,
   "id": "216bc812",
   "metadata": {},
   "outputs": [],
   "source": [
    "import pandas as pd\n",
    "pd.options.mode.chained_assignment = None\n",
    "import numpy as np\n",
    "import matplotlib.pyplot as plt\n",
    "import seaborn as sns"
   ]
  },
  {
   "cell_type": "markdown",
   "id": "2f9c118e",
   "metadata": {},
   "source": [
    "# Dataset 3: [Stop incidents testing](https://opendata.dc.gov/datasets/DCGIS::stop-incidents/explore)\n",
    "The accompanying data cover all MPD stops including vehicle, pedestrian, bicycle, and harbor stops for the period from July 22, 2019 to December 31, 2020. A stop may involve a ticket (actual or warning), investigatory stop, protective pat down, search, or arrest."
   ]
  },
  {
   "cell_type": "code",
   "execution_count": 2,
   "id": "08ffa533",
   "metadata": {},
   "outputs": [],
   "source": [
    "stops = pd.read_csv('Stop_incidents.csv', low_memory=False)"
   ]
  },
  {
   "cell_type": "code",
   "execution_count": 3,
   "id": "017f2b20",
   "metadata": {},
   "outputs": [
    {
     "data": {
      "text/html": [
       "<div>\n",
       "<style scoped>\n",
       "    .dataframe tbody tr th:only-of-type {\n",
       "        vertical-align: middle;\n",
       "    }\n",
       "\n",
       "    .dataframe tbody tr th {\n",
       "        vertical-align: top;\n",
       "    }\n",
       "\n",
       "    .dataframe thead th {\n",
       "        text-align: right;\n",
       "    }\n",
       "</style>\n",
       "<table border=\"1\" class=\"dataframe\">\n",
       "  <thead>\n",
       "    <tr style=\"text-align: right;\">\n",
       "      <th></th>\n",
       "      <th>OBJECTID</th>\n",
       "      <th>CCN_ANONYMIZED</th>\n",
       "      <th>STOP_TYPE</th>\n",
       "      <th>STOP_DATE</th>\n",
       "      <th>STOP_TIME</th>\n",
       "      <th>STOP_LOCATION</th>\n",
       "      <th>STOP_DISTRICT</th>\n",
       "      <th>STOP_DURATION_MINS</th>\n",
       "      <th>STOP_REASON_NONTICKET</th>\n",
       "      <th>STOP_REASON_HARBOR</th>\n",
       "      <th>...</th>\n",
       "      <th>ETHNICITY</th>\n",
       "      <th>AGE</th>\n",
       "      <th>ARREST_DATE</th>\n",
       "      <th>DATETIME</th>\n",
       "      <th>GIS_ID</th>\n",
       "      <th>GLOBALID</th>\n",
       "      <th>CREATOR</th>\n",
       "      <th>CREATED</th>\n",
       "      <th>EDITOR</th>\n",
       "      <th>EDITED</th>\n",
       "    </tr>\n",
       "  </thead>\n",
       "  <tbody>\n",
       "    <tr>\n",
       "      <th>17911</th>\n",
       "      <td>17912</td>\n",
       "      <td>NaN</td>\n",
       "      <td>Ticket Only</td>\n",
       "      <td>2019/10/21 04:00:00+00</td>\n",
       "      <td>1899/12/30 11:53:00+00</td>\n",
       "      <td>DOWNING ST NE</td>\n",
       "      <td>5D</td>\n",
       "      <td>10.0</td>\n",
       "      <td>NaN</td>\n",
       "      <td>NaN</td>\n",
       "      <td>...</td>\n",
       "      <td>Black</td>\n",
       "      <td>51</td>\n",
       "      <td>NaN</td>\n",
       "      <td>2019/10/21 10:53:00+00</td>\n",
       "      <td>Stop_Incidents_17912</td>\n",
       "      <td>{E3E45ED4-F04F-40FF-82FC-14602F1FB920}</td>\n",
       "      <td>NaN</td>\n",
       "      <td>NaN</td>\n",
       "      <td>NaN</td>\n",
       "      <td>NaN</td>\n",
       "    </tr>\n",
       "    <tr>\n",
       "      <th>685</th>\n",
       "      <td>686</td>\n",
       "      <td>NaN</td>\n",
       "      <td>Ticket Only</td>\n",
       "      <td>2019/07/30 04:00:00+00</td>\n",
       "      <td>1899/12/31 04:35:00+00</td>\n",
       "      <td>1100 BLOCK OF NORTH CAPITOL ST NE</td>\n",
       "      <td>5D</td>\n",
       "      <td>5.0</td>\n",
       "      <td>NaN</td>\n",
       "      <td>NaN</td>\n",
       "      <td>...</td>\n",
       "      <td>White</td>\n",
       "      <td>42</td>\n",
       "      <td>NaN</td>\n",
       "      <td>2019/07/31 03:35:00+00</td>\n",
       "      <td>Stop_Incidents_686</td>\n",
       "      <td>{A955728D-E7AE-4E96-9DF2-3388CED3A612}</td>\n",
       "      <td>NaN</td>\n",
       "      <td>NaN</td>\n",
       "      <td>NaN</td>\n",
       "      <td>NaN</td>\n",
       "    </tr>\n",
       "    <tr>\n",
       "      <th>110842</th>\n",
       "      <td>110843</td>\n",
       "      <td>NaN</td>\n",
       "      <td>Ticket Only</td>\n",
       "      <td>2020/03/26 04:00:00+00</td>\n",
       "      <td>1899/12/30 14:35:00+00</td>\n",
       "      <td>1300 BLOCK OF V ST  SE</td>\n",
       "      <td>7D</td>\n",
       "      <td>10.0</td>\n",
       "      <td>NaN</td>\n",
       "      <td>NaN</td>\n",
       "      <td>...</td>\n",
       "      <td>Black</td>\n",
       "      <td>23</td>\n",
       "      <td>NaN</td>\n",
       "      <td>2020/03/26 13:35:00+00</td>\n",
       "      <td>Stop_Incidents_110843</td>\n",
       "      <td>{81242778-FB70-4076-8112-0F670F0DC42C}</td>\n",
       "      <td>NaN</td>\n",
       "      <td>NaN</td>\n",
       "      <td>NaN</td>\n",
       "      <td>NaN</td>\n",
       "    </tr>\n",
       "    <tr>\n",
       "      <th>113024</th>\n",
       "      <td>113025</td>\n",
       "      <td>NaN</td>\n",
       "      <td>Ticket Only</td>\n",
       "      <td>2020/04/09 04:00:00+00</td>\n",
       "      <td>1899/12/30 13:33:00+00</td>\n",
       "      <td>3300 BLOCK OF MINNESOTA AVE SE</td>\n",
       "      <td>6D</td>\n",
       "      <td>10.0</td>\n",
       "      <td>NaN</td>\n",
       "      <td>NaN</td>\n",
       "      <td>...</td>\n",
       "      <td>Black</td>\n",
       "      <td>33</td>\n",
       "      <td>NaN</td>\n",
       "      <td>2020/04/09 12:33:00+00</td>\n",
       "      <td>Stop_Incidents_113025</td>\n",
       "      <td>{955C977C-9C8D-437B-AEA3-D0E4A536A66A}</td>\n",
       "      <td>NaN</td>\n",
       "      <td>NaN</td>\n",
       "      <td>NaN</td>\n",
       "      <td>NaN</td>\n",
       "    </tr>\n",
       "    <tr>\n",
       "      <th>7334</th>\n",
       "      <td>7335</td>\n",
       "      <td>NaN</td>\n",
       "      <td>Ticket Only</td>\n",
       "      <td>2019/12/05 05:00:00+00</td>\n",
       "      <td>1899/12/30 21:55:00+00</td>\n",
       "      <td>800 BLOCK OF RHODE ISLAND AVE NE</td>\n",
       "      <td>5D</td>\n",
       "      <td>10.0</td>\n",
       "      <td>NaN</td>\n",
       "      <td>NaN</td>\n",
       "      <td>...</td>\n",
       "      <td>Black</td>\n",
       "      <td>56</td>\n",
       "      <td>NaN</td>\n",
       "      <td>2019/12/05 21:55:00+00</td>\n",
       "      <td>Stop_Incidents_7335</td>\n",
       "      <td>{33859725-1AE5-4FBE-B11E-2FE52A3ED444}</td>\n",
       "      <td>NaN</td>\n",
       "      <td>NaN</td>\n",
       "      <td>NaN</td>\n",
       "      <td>NaN</td>\n",
       "    </tr>\n",
       "  </tbody>\n",
       "</table>\n",
       "<p>5 rows × 59 columns</p>\n",
       "</div>"
      ],
      "text/plain": [
       "        OBJECTID CCN_ANONYMIZED    STOP_TYPE               STOP_DATE  \\\n",
       "17911      17912            NaN  Ticket Only  2019/10/21 04:00:00+00   \n",
       "685          686            NaN  Ticket Only  2019/07/30 04:00:00+00   \n",
       "110842    110843            NaN  Ticket Only  2020/03/26 04:00:00+00   \n",
       "113024    113025            NaN  Ticket Only  2020/04/09 04:00:00+00   \n",
       "7334        7335            NaN  Ticket Only  2019/12/05 05:00:00+00   \n",
       "\n",
       "                     STOP_TIME                      STOP_LOCATION  \\\n",
       "17911   1899/12/30 11:53:00+00                      DOWNING ST NE   \n",
       "685     1899/12/31 04:35:00+00  1100 BLOCK OF NORTH CAPITOL ST NE   \n",
       "110842  1899/12/30 14:35:00+00             1300 BLOCK OF V ST  SE   \n",
       "113024  1899/12/30 13:33:00+00     3300 BLOCK OF MINNESOTA AVE SE   \n",
       "7334    1899/12/30 21:55:00+00   800 BLOCK OF RHODE ISLAND AVE NE   \n",
       "\n",
       "       STOP_DISTRICT  STOP_DURATION_MINS STOP_REASON_NONTICKET  \\\n",
       "17911             5D                10.0                   NaN   \n",
       "685               5D                 5.0                   NaN   \n",
       "110842            7D                10.0                   NaN   \n",
       "113024            6D                10.0                   NaN   \n",
       "7334              5D                10.0                   NaN   \n",
       "\n",
       "       STOP_REASON_HARBOR  ... ETHNICITY  AGE  ARREST_DATE  \\\n",
       "17911                 NaN  ...     Black   51          NaN   \n",
       "685                   NaN  ...     White   42          NaN   \n",
       "110842                NaN  ...     Black   23          NaN   \n",
       "113024                NaN  ...     Black   33          NaN   \n",
       "7334                  NaN  ...     Black   56          NaN   \n",
       "\n",
       "                      DATETIME                 GIS_ID  \\\n",
       "17911   2019/10/21 10:53:00+00   Stop_Incidents_17912   \n",
       "685     2019/07/31 03:35:00+00     Stop_Incidents_686   \n",
       "110842  2020/03/26 13:35:00+00  Stop_Incidents_110843   \n",
       "113024  2020/04/09 12:33:00+00  Stop_Incidents_113025   \n",
       "7334    2019/12/05 21:55:00+00    Stop_Incidents_7335   \n",
       "\n",
       "                                      GLOBALID  CREATOR  CREATED  EDITOR  \\\n",
       "17911   {E3E45ED4-F04F-40FF-82FC-14602F1FB920}      NaN      NaN     NaN   \n",
       "685     {A955728D-E7AE-4E96-9DF2-3388CED3A612}      NaN      NaN     NaN   \n",
       "110842  {81242778-FB70-4076-8112-0F670F0DC42C}      NaN      NaN     NaN   \n",
       "113024  {955C977C-9C8D-437B-AEA3-D0E4A536A66A}      NaN      NaN     NaN   \n",
       "7334    {33859725-1AE5-4FBE-B11E-2FE52A3ED444}      NaN      NaN     NaN   \n",
       "\n",
       "        EDITED  \n",
       "17911      NaN  \n",
       "685        NaN  \n",
       "110842     NaN  \n",
       "113024     NaN  \n",
       "7334       NaN  \n",
       "\n",
       "[5 rows x 59 columns]"
      ]
     },
     "execution_count": 3,
     "metadata": {},
     "output_type": "execute_result"
    }
   ],
   "source": [
    "stops.sample(5)"
   ]
  },
  {
   "cell_type": "code",
   "execution_count": 4,
   "id": "b02f9fcb",
   "metadata": {},
   "outputs": [
    {
     "data": {
      "image/png": "[encoded data removed]",
      "text/plain": [
       "<Figure size 504x360 with 1 Axes>"
      ]
     },
     "metadata": {
      "needs_background": "light"
     },
     "output_type": "display_data"
    }
   ],
   "source": [
    "fig, ax = plt.subplots(figsize=(7, 5))\n",
    "ax = sns.countplot(y=\"ETHNICITY\", data=stops, palette='PiYG',\n",
    "                   order = stops.ETHNICITY.value_counts().index, edgecolor='black')\n",
    "ax.set(title = 'Count of traffic stops by subject race', xlabel='Count', ylabel='Subject race');"
   ]
  },
  {
   "cell_type": "code",
   "execution_count": 5,
   "id": "2e7adb47",
   "metadata": {},
   "outputs": [
    {
     "data": {
      "image/png": "[encoded data removed]",
      "text/plain": [
       "<Figure size 432x288 with 1 Axes>"
      ]
     },
     "metadata": {
      "needs_background": "light"
     },
     "output_type": "display_data"
    }
   ],
   "source": [
    "stops.ETHNICITY.value_counts(ascending=True).plot(kind='barh', color='lavender',edgecolor='indigo', title = \n",
    "                                                  'Traffic stops July 2019-December 2020 - race distribution');"
   ]
  },
  {
   "cell_type": "code",
   "execution_count": 6,
   "id": "3bcf20d0",
   "metadata": {},
   "outputs": [
    {
     "data": {
      "image/png": "[encoded data removed]",
      "text/plain": [
       "<Figure size 432x288 with 1 Axes>"
      ]
     },
     "metadata": {
      "needs_background": "light"
     },
     "output_type": "display_data"
    }
   ],
   "source": [
    "stops.STOP_TYPE.value_counts(ascending=True).plot(kind='barh', color='lavender',edgecolor='indigo', title = \n",
    "                                                  'Stop type July 2019-December 2020');"
   ]
  },
  {
   "cell_type": "code",
   "execution_count": 7,
   "id": "44ff1226",
   "metadata": {},
   "outputs": [
    {
     "data": {
      "text/plain": [
       "Call for service                                                                                                                                                                                                                           21422\n",
       "Traffic violation                                                                                                                                                                                                                           8197\n",
       "Individual<U+0092>s actions                                                                                                                                                                                                                 6794\n",
       "Warrant/court order                                                                                                                                                                                                                         5978\n",
       "BOLO/Lookout                                                                                                                                                                                                                                3850\n",
       "                                                                                                                                                                                                                                           ...  \n",
       "Call for service; Prior knowledge; Individual<U+0092>s actions; Individual<U+0092>s characteristics                                                                                                                                            1\n",
       "Individual<U+0092>s actions; Individual<U+0092>s characteristics; Response to crash; Traffic violation; Demeanor during a field contact                                                                                                        1\n",
       "Demeanor during a field contact; Individual<U+0092>s actions; Information obtained from witnesses or informants                                                                                                                                1\n",
       "Information obtained from law enforcement sources; Observed a weapon; BOLO/Lookout; Individual<U+0092>s actions; Demeanor during a field contact; Warrant/court order; Prior knowledge; Suspicion of criminal activity (self-initiated)        1\n",
       "Information obtained from witnesses or informants; BOLO/Lookout; Call for service; Individual<U+0092>s actions; Individual<U+0092>s characteristics                                                                                            1\n",
       "Name: STOP_REASON_NONTICKET, Length: 1912, dtype: int64"
      ]
     },
     "execution_count": 7,
     "metadata": {},
     "output_type": "execute_result"
    }
   ],
   "source": [
    "stops.STOP_REASON_NONTICKET.value_counts()"
   ]
  },
  {
   "cell_type": "code",
   "execution_count": 8,
   "id": "e849ffd3",
   "metadata": {},
   "outputs": [],
   "source": [
    "#### way more analysis needed ####"
   ]
  }
 ],
 "metadata": {
  "kernelspec": {
   "display_name": "Python 3",
   "language": "python",
   "name": "python3"
  },
  "language_info": {
   "codemirror_mode": {
    "name": "ipython",
    "version": 3
   },
   "file_extension": ".py",
   "mimetype": "text/x-python",
   "name": "python",
   "nbconvert_exporter": "python",
   "pygments_lexer": "ipython3",
   "version": "3.8.2"
  }
 },
 "nbformat": 4,
 "nbformat_minor": 5
}
